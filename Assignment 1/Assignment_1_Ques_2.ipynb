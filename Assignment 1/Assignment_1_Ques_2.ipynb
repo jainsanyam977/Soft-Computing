{
 "cells": [
  {
   "cell_type": "code",
   "execution_count": 0,
   "metadata": {
    "colab": {},
    "colab_type": "code",
    "id": "uGKh6pSJ98fz"
   },
   "outputs": [],
   "source": [
    "import numpy as np\n",
    "import pandas as pd\n",
    "import matplotlib.pyplot as plt"
   ]
  },
  {
   "cell_type": "code",
   "execution_count": 0,
   "metadata": {
    "colab": {},
    "colab_type": "code",
    "id": "2v4nxsqDrK0D"
   },
   "outputs": [],
   "source": [
    "# Code to read csv file into Colaboratory:\n",
    "!pip install -U -q PyDrive\n",
    "from pydrive.auth import GoogleAuth\n",
    "from pydrive.drive import GoogleDrive\n",
    "from google.colab import auth\n",
    "from oauth2client.client import GoogleCredentials\n",
    "# Authenticate and create the PyDrive client.\n",
    "auth.authenticate_user()\n",
    "gauth = GoogleAuth()\n",
    "gauth.credentials = GoogleCredentials.get_application_default()\n",
    "drive = GoogleDrive(gauth)"
   ]
  },
  {
   "cell_type": "code",
   "execution_count": 0,
   "metadata": {
    "colab": {},
    "colab_type": "code",
    "id": "7mJPdIa7sUwp"
   },
   "outputs": [],
   "source": [
    "link = 'https://drive.google.com/open?id=17hQl9e8gvJtdDy8g-7ZOlf0uv9MKvNL7'"
   ]
  },
  {
   "cell_type": "code",
   "execution_count": 0,
   "metadata": {
    "colab": {},
    "colab_type": "code",
    "id": "6fN1EgMLsfYN"
   },
   "outputs": [],
   "source": [
    "fluff, id = link.split('=')"
   ]
  },
  {
   "cell_type": "code",
   "execution_count": 0,
   "metadata": {
    "colab": {},
    "colab_type": "code",
    "id": "umuxe_dvtDk2"
   },
   "outputs": [],
   "source": [
    "downloaded = drive.CreateFile({'id':id}) \n",
    "downloaded.GetContentFile('Housing.csv')  \n",
    "dataset = pd.read_csv('Housing.csv')"
   ]
  },
  {
   "cell_type": "code",
   "execution_count": 0,
   "metadata": {
    "colab": {
     "base_uri": "https://localhost:8080/",
     "height": 101
    },
    "colab_type": "code",
    "id": "rWgM86RgtRVc",
    "outputId": "3a738a1b-f4c1-433d-f6ae-67d42e95faaf"
   },
   "outputs": [
    {
     "name": "stdout",
     "output_type": "stream",
     "text": [
      "(546, 13)\n",
      "Index(['Unnamed: 0', 'price', 'lotsize', 'bedrooms', 'bathrms', 'stories',\n",
      "       'driveway', 'recroom', 'fullbase', 'gashw', 'airco', 'garagepl',\n",
      "       'prefarea'],\n",
      "      dtype='object')\n"
     ]
    }
   ],
   "source": [
    "print(dataset.shape)\n",
    "print(dataset.columns)"
   ]
  },
  {
   "cell_type": "code",
   "execution_count": 0,
   "metadata": {
    "colab": {
     "base_uri": "https://localhost:8080/",
     "height": 286
    },
    "colab_type": "code",
    "id": "wln6WcVMt9uZ",
    "outputId": "c2960859-5ebf-4bb0-dd44-0cfee5ebdaac"
   },
   "outputs": [
    {
     "name": "stdout",
     "output_type": "stream",
     "text": [
      "(546, 2)\n",
      "Index(['price', 'lotsize'], dtype='object')\n",
      "<bound method NDFrame.head of         price  lotsize\n",
      "0     42000.0     5850\n",
      "1     38500.0     4000\n",
      "2     49500.0     3060\n",
      "3     60500.0     6650\n",
      "4     61000.0     6360\n",
      "..        ...      ...\n",
      "541   91500.0     4800\n",
      "542   94000.0     6000\n",
      "543  103000.0     6000\n",
      "544  105000.0     6000\n",
      "545  105000.0     6000\n",
      "\n",
      "[546 rows x 2 columns]>\n"
     ]
    }
   ],
   "source": [
    "slicedData = dataset[['price', 'lotsize']]\n",
    "print(slicedData.shape)\n",
    "print(slicedData.columns)\n",
    "print(slicedData.head)"
   ]
  },
  {
   "cell_type": "code",
   "execution_count": 0,
   "metadata": {
    "colab": {
     "base_uri": "https://localhost:8080/",
     "height": 279
    },
    "colab_type": "code",
    "id": "HkZtjGnavUSX",
    "outputId": "7ab99727-fcba-415c-952f-ce60065c172f"
   },
   "outputs": [
    {
     "data": {
      "image/png": "[encoded data removed]",
      "text/plain": [
       "<Figure size 432x288 with 1 Axes>"
      ]
     },
     "metadata": {
      "tags": []
     },
     "output_type": "display_data"
    }
   ],
   "source": [
    "# scatter plot\n",
    "slicedData.plot(kind='scatter', x='lotsize', y='price')\n",
    "plt.show()"
   ]
  },
  {
   "cell_type": "code",
   "execution_count": 0,
   "metadata": {
    "colab": {
     "base_uri": "https://localhost:8080/",
     "height": 101
    },
    "colab_type": "code",
    "id": "24S_ZBcAvxV3",
    "outputId": "1bee154a-bd9b-4187-e810-995add9e8877"
   },
   "outputs": [
    {
     "data": {
      "text/plain": [
       "array([[42000.,  5850.],\n",
       "       [38500.,  4000.],\n",
       "       [49500.,  3060.],\n",
       "       [60500.,  6650.],\n",
       "       [61000.,  6360.]])"
      ]
     },
     "execution_count": 16,
     "metadata": {
      "tags": []
     },
     "output_type": "execute_result"
    }
   ],
   "source": [
    "matrix = np.array(slicedData.values, 'float')\n",
    "matrix[0:5,:]"
   ]
  },
  {
   "cell_type": "code",
   "execution_count": 0,
   "metadata": {
    "colab": {},
    "colab_type": "code",
    "id": "6EUgZ40E0I-N"
   },
   "outputs": [],
   "source": [
    "X = matrix[:,1]\n",
    "Y = matrix[:,0]"
   ]
  },
  {
   "cell_type": "markdown",
   "metadata": {
    "colab_type": "text",
    "id": "DjKhKgfT0dXd"
   },
   "source": [
    "X = independent variable i.e lot size\n",
    "Y = dependent variable ie. price of the house"
   ]
  },
  {
   "cell_type": "code",
   "execution_count": 0,
   "metadata": {
    "colab": {},
    "colab_type": "code",
    "id": "cZ5nD6xY0mRx"
   },
   "outputs": [],
   "source": [
    "# noramlization of independent variable \n",
    "# divide independent variable by maximum value\n",
    "X = X/(np.max(X))"
   ]
  },
  {
   "cell_type": "code",
   "execution_count": 0,
   "metadata": {
    "colab": {
     "base_uri": "https://localhost:8080/",
     "height": 279
    },
    "colab_type": "code",
    "id": "XPrp_FTc06r9",
    "outputId": "47e2b954-1284-4f5b-9d04-15092d94af17"
   },
   "outputs": [
    {
     "data": {
      "image/png": "[encoded data removed]",
      "text/plain": [
       "<Figure size 432x288 with 1 Axes>"
      ]
     },
     "metadata": {
      "tags": []
     },
     "output_type": "display_data"
    }
   ],
   "source": [
    "plt.plot(X, Y, 'bo')\n",
    "plt.xlabel('Lot Size')\n",
    "plt.ylabel('Price')\n",
    "plt.show()"
   ]
  },
  {
   "cell_type": "markdown",
   "metadata": {
    "colab_type": "text",
    "id": "mVeFj8ZMNQzw"
   },
   "source": [
    "y = mx + c is the eqaution of the line\n",
    "we need to find optimal values of m and c so as to reduce the cost function\n",
    "we have theta0 and theta1 as arbitrary constanta that need to be set "
   ]
  },
  {
   "cell_type": "code",
   "execution_count": 0,
   "metadata": {
    "colab": {},
    "colab_type": "code",
    "id": "88NNFDPvNcfe"
   },
   "outputs": [],
   "source": [
    "# cost function\n",
    "def computecost(x, y, theta):\n",
    "    a = 1/(2*m)\n",
    "    b = np.sum(((X@theta)-Y)**2)\n",
    "    j = (a)*(b)\n",
    "    return j"
   ]
  },
  {
   "cell_type": "code",
   "execution_count": 0,
   "metadata": {
    "colab": {},
    "colab_type": "code",
    "id": "D880YfsuOAOs"
   },
   "outputs": [],
   "source": [
    "# initialising parameters\n",
    "m = np.size(Y)\n",
    "X = X.reshape([546,1])\n",
    "x = np.hstack([np.ones_like(X), X])\n",
    "\n",
    "theta = np.zeros([2,1])"
   ]
  },
  {
   "cell_type": "code",
   "execution_count": 0,
   "metadata": {
    "colab": {
     "base_uri": "https://localhost:8080/",
     "height": 34
    },
    "colab_type": "code",
    "id": "senea99ER_sz",
    "outputId": "c5b4e73f-48e1-4890-9352-38eaf05bfbe2"
   },
   "outputs": [
    {
     "name": "stdout",
     "output_type": "stream",
     "text": [
      "1461172085457.0\n"
     ]
    }
   ],
   "source": [
    "# cheaching cost at theta=0\n",
    "print(computecost(x,Y,theta))"
   ]
  },
  {
   "cell_type": "markdown",
   "metadata": {
    "colab_type": "text",
    "id": "2rIESwOWSvpA"
   },
   "source": [
    "our aim is to reduce this cost value further,\n",
    "so that we can achieve the optimal linear fit for our data\n"
   ]
  },
  {
   "cell_type": "markdown",
   "metadata": {
    "colab_type": "text",
    "id": "lAWQhaaHS7EF"
   },
   "source": [
    "Gradient descend is a one such algorithm used to find the optimal parameter ‘theta’ using the given parameters,\n",
    "\n",
    "x — Input values\n",
    "\n",
    "y — output values\n",
    "\n",
    "Initial_theta — in most cases NULL theta\n",
    "\n",
    "alpha — rate at which gradient pointer descending to optimal value\n",
    "\n",
    "iteration — setting how many iteration it should take"
   ]
  },
  {
   "cell_type": "code",
   "execution_count": 0,
   "metadata": {
    "colab": {},
    "colab_type": "code",
    "id": "WM3NaSJRS8Km"
   },
   "outputs": [],
   "source": [
    "# defining Gradient Descent Algorithm\n",
    "def gradient(x, y, theta):\n",
    "    alpha = 0.00001\n",
    "    iteration = 20000\n",
    "    J_history = np.zeros([iteration,1]);\n",
    "\n",
    "    for iter in range(0,20000):\n",
    "        error = (x @ theta) -y\n",
    "        temp0 = theta[0] - ((alpha/m) * np.sum(error*x[:,0]))\n",
    "        temp1 = theta[1] - ((alpha/m) * np.sum(error*x[:,1]))\n",
    "        theta = np.array([temp0,temp1]).reshape(2,1)\n",
    "        J_history[iter] = (1 / (2*m) ) * (np.sum(((x @ theta)-y)**2))\n",
    "    return theta, J_history"
   ]
  },
  {
   "cell_type": "code",
   "execution_count": 0,
   "metadata": {
    "colab": {
     "base_uri": "https://localhost:8080/",
     "height": 50
    },
    "colab_type": "code",
    "id": "KQteeukNT_RI",
    "outputId": "7b583fe8-e326-42df-9849-b81494def654"
   },
   "outputs": [
    {
     "name": "stdout",
     "output_type": "stream",
     "text": [
      "[[ -9946.73198526]\n",
      " [247297.37276352]]\n"
     ]
    }
   ],
   "source": [
    "# using gradient descend to compute optimal theta values\n",
    "theta, J = gradient(x, Y, theta)\n",
    "print(theta)"
   ]
  },
  {
   "cell_type": "code",
   "execution_count": 0,
   "metadata": {
    "colab": {
     "base_uri": "https://localhost:8080/",
     "height": 134
    },
    "colab_type": "code",
    "id": "6U1jkUDdUOxD",
    "outputId": "adeb7a5d-a48c-4322-aba2-a5306daa3258"
   },
   "outputs": [
    {
     "name": "stdout",
     "output_type": "stream",
     "text": [
      "[[2.10662998e+11]\n",
      " [2.10668341e+11]\n",
      " [2.10673686e+11]\n",
      " ...\n",
      " [4.92847912e+11]\n",
      " [4.92870792e+11]\n",
      " [4.92893673e+11]]\n"
     ]
    }
   ],
   "source": [
    "# computing the cost value for this theta\n",
    "print(J)"
   ]
  },
  {
   "cell_type": "markdown",
   "metadata": {
    "colab_type": "text",
    "id": "fFn_uQWPWhx0"
   },
   "source": [
    "as we can see the cost values are much lower than 1461172085457.0\n",
    "which was computed using theata as zero"
   ]
  },
  {
   "cell_type": "code",
   "execution_count": 0,
   "metadata": {
    "colab": {
     "base_uri": "https://localhost:8080/",
     "height": 279
    },
    "colab_type": "code",
    "id": "7HAKxbGCUkfF",
    "outputId": "c3699695-b2aa-4eb2-f409-e7af3a034197"
   },
   "outputs": [
    {
     "data": {
      "image/png": "[encoded data removed]",
      "text/plain": [
       "<Figure size 432x288 with 1 Axes>"
      ]
     },
     "metadata": {
      "tags": []
     },
     "output_type": "display_data"
    }
   ],
   "source": [
    "# ploting the line\n",
    "plt.plot(X,Y,'bo')\n",
    "plt.plot(X,x@theta,'r-')\n",
    "plt.ylabel('price')\n",
    "plt.xlabel('lot size')\n",
    "plt.show()"
   ]
  },
  {
   "cell_type": "code",
   "execution_count": 1,
   "metadata": {
    "colab": {
     "base_uri": "https://localhost:8080/",
     "height": 34
    },
    "colab_type": "code",
    "id": "IXdAgvoQVU8K",
    "outputId": "57def12f-3971-4cee-a190-06f62101ca18"
   },
   "outputs": [
    {
     "ename": "NameError",
     "evalue": "name 'np' is not defined",
     "output_type": "error",
     "traceback": [
      "\u001b[1;31m---------------------------------------------------------------------------\u001b[0m",
      "\u001b[1;31mNameError\u001b[0m                                 Traceback (most recent call last)",
      "\u001b[1;32m<ipython-input-1-c52828085648>\u001b[0m in \u001b[0;36m<module>\u001b[1;34m\u001b[0m\n\u001b[0;32m      1\u001b[0m \u001b[1;31m# predicting using the value of theta\u001b[0m\u001b[1;33m\u001b[0m\u001b[1;33m\u001b[0m\u001b[1;33m\u001b[0m\u001b[0m\n\u001b[1;32m----> 2\u001b[1;33m \u001b[0mpredict\u001b[0m \u001b[1;33m=\u001b[0m \u001b[1;33m[\u001b[0m\u001b[1;36m1\u001b[0m\u001b[1;33m,\u001b[0m \u001b[1;33m(\u001b[0m\u001b[1;36m6360\u001b[0m\u001b[1;33m/\u001b[0m\u001b[0mnp\u001b[0m\u001b[1;33m.\u001b[0m\u001b[0mmax\u001b[0m\u001b[1;33m(\u001b[0m\u001b[0mmatrix\u001b[0m\u001b[1;33m[\u001b[0m\u001b[1;33m:\u001b[0m\u001b[1;33m,\u001b[0m\u001b[1;36m1\u001b[0m\u001b[1;33m]\u001b[0m\u001b[1;33m)\u001b[0m\u001b[1;33m)\u001b[0m\u001b[1;33m]\u001b[0m\u001b[1;33m@\u001b[0m\u001b[0mtheta\u001b[0m\u001b[1;33m\u001b[0m\u001b[1;33m\u001b[0m\u001b[0m\n\u001b[0m\u001b[0;32m      3\u001b[0m \u001b[1;31m# normalizing input value, 1 is for intercept\u001b[0m\u001b[1;33m\u001b[0m\u001b[1;33m\u001b[0m\u001b[1;33m\u001b[0m\u001b[0m\n\u001b[0;32m      4\u001b[0m \u001b[0mprint\u001b[0m\u001b[1;33m(\u001b[0m\u001b[0mpredict\u001b[0m\u001b[1;33m)\u001b[0m\u001b[1;33m\u001b[0m\u001b[1;33m\u001b[0m\u001b[0m\n",
      "\u001b[1;31mNameError\u001b[0m: name 'np' is not defined"
     ]
    }
   ],
   "source": [
    "# predicting using the value of theta\n",
    "predict = [1, (6360/np.max(matrix[:,1]))]@theta\n",
    "# normalizing input value, 1 is for intercept\n",
    "print(predict)"
   ]
  },
  {
   "cell_type": "code",
   "execution_count": null,
   "metadata": {},
   "outputs": [],
   "source": []
  }
 ],
 "metadata": {
  "colab": {
   "collapsed_sections": [],
   "name": "Assignment_1_Ques_2.ipynb",
   "provenance": []
  },
  "kernelspec": {
   "display_name": "Python 3",
   "language": "python",
   "name": "python3"
  },
  "language_info": {
   "codemirror_mode": {
    "name": "ipython",
    "version": 3
   },
   "file_extension": ".py",
   "mimetype": "text/x-python",
   "name": "python",
   "nbconvert_exporter": "python",
   "pygments_lexer": "ipython3",
   "version": "3.7.3"
  }
 },
 "nbformat": 4,
 "nbformat_minor": 1
}
